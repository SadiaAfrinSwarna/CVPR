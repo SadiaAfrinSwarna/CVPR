{
  "nbformat": 4,
  "nbformat_minor": 0,
  "metadata": {
    "colab": {
      "name": "midProject.ipynb",
      "provenance": [],
      "collapsed_sections": []
    },
    "kernelspec": {
      "name": "python3",
      "display_name": "Python 3"
    },
    "language_info": {
      "name": "python"
    }
  },
  "cells": [
    {
      "cell_type": "code",
      "metadata": {
        "id": "Sn3RRqR2Nb7r"
      },
      "source": [
        "import tensorflow as tf\n",
        "from tensorflow import keras\n",
        "from tensorflow.keras import layers\n",
        "from tensorflow.keras.datasets import mnist\n",
        "\n",
        "import os\n",
        "import random\n",
        "import numpy as np\n",
        "import matplotlib.pyplot as plt\n",
        "\n",
        "# ignore information messgaes from tensorflow, but we will receieve error messages\n",
        "os.environ['TFF_CPP_MIN_LOG_LEVEL'] = '2'\n",
        "\n",
        "%matplotlib inline"
      ],
      "execution_count": 2,
      "outputs": []
    },
    {
      "cell_type": "code",
      "metadata": {
        "colab": {
          "base_uri": "https://localhost:8080/"
        },
        "id": "sVt0MXHTNzw-",
        "outputId": "0d34f280-2d75-45ab-e73d-26303ec78b22"
      },
      "source": [
        "(X_train, Y_train), (X_test, Y_test) = mnist.load_data()\n",
        "print(X_train.shape, Y_train.shape)\n",
        "print(X_test.shape, Y_test.shape)"
      ],
      "execution_count": 3,
      "outputs": [
        {
          "output_type": "stream",
          "name": "stdout",
          "text": [
            "Downloading data from https://storage.googleapis.com/tensorflow/tf-keras-datasets/mnist.npz\n",
            "11493376/11490434 [==============================] - 0s 0us/step\n",
            "11501568/11490434 [==============================] - 0s 0us/step\n",
            "(60000, 28, 28) (60000,)\n",
            "(10000, 28, 28) (10000,)\n"
          ]
        }
      ]
    },
    {
      "cell_type": "markdown",
      "metadata": {
        "id": "JpRcHfXVOTdP"
      },
      "source": [
        ""
      ]
    },
    {
      "cell_type": "code",
      "metadata": {
        "id": "hYxixFEWN72c"
      },
      "source": [
        "X_train, X_test = X_train.reshape(-1, 28,28,1), X_test.reshape(-1, 28,28,1)"
      ],
      "execution_count": 4,
      "outputs": []
    },
    {
      "cell_type": "markdown",
      "metadata": {
        "id": "jazMFGwNOV2-"
      },
      "source": [
        "**ADAM**"
      ]
    },
    {
      "cell_type": "code",
      "metadata": {
        "id": "57Y8EG-wObjK"
      },
      "source": [
        "model_1 = keras.Sequential([\n",
        "    ## input layer\n",
        "    keras.Input(shape=(28,28,1)),\n",
        "    \n",
        "    ## hidden layers\n",
        "    layers.Conv2D(filters=32, kernel_size=(5,5), activation='relu'),\n",
        "    layers.MaxPooling2D(pool_size=(2,2)),\n",
        "    layers.Conv2D(filters=64, kernel_size=(3,3), activation='relu'),\n",
        "    layers.MaxPooling2D(pool_size=(2,2)),\n",
        "    layers.Conv2D(filters=64, kernel_size=(3,3), activation='relu'),\n",
        "    layers.MaxPooling2D(pool_size=(2,2)),\n",
        "    \n",
        "    layers.Flatten(),\n",
        "    layers.Dense(64, activation='relu'),\n",
        "    \n",
        "    ## output layer\n",
        "    layers.Dense(units=10, activation='softmax')\n",
        "])\n",
        "model_1.summary()"
      ],
      "execution_count": null,
      "outputs": []
    },
    {
      "cell_type": "code",
      "metadata": {
        "id": "d8Zo9cDIPwZD"
      },
      "source": [
        "model_1.compile(\n",
        "    optimizer='adam', \n",
        "    loss='sparse_categorical_crossentropy', \n",
        "    metrics=['accuracy']\n",
        ")"
      ],
      "execution_count": null,
      "outputs": []
    },
    {
      "cell_type": "code",
      "metadata": {
        "id": "Z2qvDz2lPy0e"
      },
      "source": [
        "h1 = model_1.fit(x=X_train, y=Y_train, epochs=5, batch_size=28, validation_split=0.2)"
      ],
      "execution_count": null,
      "outputs": []
    },
    {
      "cell_type": "code",
      "metadata": {
        "id": "30YTyozWP2Ob"
      },
      "source": [
        "plt.figure(figsize=(15,5))\n",
        "plt.subplot(1,2,1)\n",
        "plt.plot(h1.history['accuracy'], 'o-', label='train accuracy')\n",
        "plt.plot(h1.history['val_accuracy'], 'o-', label = 'validation accuracy')\n",
        "plt.xlabel('Epoch')\n",
        "plt.ylabel('Accuracy')\n",
        "plt.grid(True)\n",
        "plt.legend(loc='lower right')\n",
        "\n",
        "plt.subplot(1,2,2)\n",
        "plt.plot(h1.history['loss'], 'o-', label='train loss')\n",
        "plt.plot(h1.history['val_loss'], 'o-', label='validation loss')\n",
        "plt.xlabel('Epoch')\n",
        "plt.ylabel('Loss')\n",
        "plt.grid(True)\n",
        "plt.legend(loc='upper right')\n",
        "\n",
        "plt.show()"
      ],
      "execution_count": null,
      "outputs": []
    },
    {
      "cell_type": "code",
      "metadata": {
        "id": "4pq3nWDVQKZA"
      },
      "source": [
        "test_loss, test_acc = model_1.evaluate(X_test, Y_test)\n",
        "print('\\nTest Loss:', test_loss)\n",
        "print('\\nTest Accuracy:', test_acc)"
      ],
      "execution_count": null,
      "outputs": []
    },
    {
      "cell_type": "code",
      "metadata": {
        "id": "fdEqXFnEQOOt"
      },
      "source": [
        "ROWS = 6\n",
        "COLS = 10\n",
        "\n",
        "random_indices = random.sample(range(X_test.shape[0]), ROWS*COLS)\n",
        "sample_images = X_test[random_indices, :]\n",
        "sample_labels = Y_test[random_indices]\n",
        "predictions = model_1.predict(sample_images)\n",
        "\n",
        "i = 0\n",
        "\n",
        "plt.figure(figsize=(15,8))\n",
        "for r in range(ROWS):\n",
        "    for c in range(COLS):\n",
        "        plt.subplot(ROWS, COLS, i+1)\n",
        "        plt.imshow(sample_images[i].reshape(28,28), cmap=plt.cm.gray)\n",
        "        plt.xticks([])\n",
        "        plt.yticks([])\n",
        "        prediction = np.argmax(predictions[i]) \n",
        "        confidence = predictions[i][prediction]\n",
        "        if sample_labels[i] == prediction:\n",
        "            plt.xlabel(f\"{prediction} ({confidence: .2f})\", color='b')\n",
        "        else:\n",
        "            plt.xlabel(f\"{prediction} ({confidence: .2f})\", color='r')\n",
        "        plt.ylabel(sample_labels[i], color='g')\n",
        "        i += 1\n",
        "        \n",
        "plt.tight_layout()\n",
        "plt.show()"
      ],
      "execution_count": null,
      "outputs": []
    },
    {
      "cell_type": "markdown",
      "metadata": {
        "id": "lSWeFAKLQZ7L"
      },
      "source": [
        "**SGD**"
      ]
    },
    {
      "cell_type": "code",
      "metadata": {
        "colab": {
          "base_uri": "https://localhost:8080/"
        },
        "id": "f1CkN5OfQb35",
        "outputId": "75357853-33f7-4ed9-c2e8-4eb4e27c4088"
      },
      "source": [
        "model_2 = keras.Sequential([\n",
        "    ## input layer\n",
        "    keras.Input(shape=(28,28,1)),\n",
        "    \n",
        "    ## hidden layers\n",
        "    layers.Conv2D(filters=32, kernel_size=(5,5), activation='relu'),\n",
        "    layers.MaxPooling2D(pool_size=(2,2)),\n",
        "    layers.Conv2D(filters=64, kernel_size=(3,3), activation='relu'),\n",
        "    layers.MaxPooling2D(pool_size=(2,2)),\n",
        "    layers.Conv2D(filters=64, kernel_size=(3,3), activation='relu'),\n",
        "    layers.MaxPooling2D(pool_size=(2,2)),\n",
        "    \n",
        "    layers.Flatten(),\n",
        "    layers.Dense(64, activation='relu'),\n",
        "    \n",
        "    ## output layer\n",
        "    layers.Dense(units=10, activation='softmax')\n",
        "])\n",
        "model_2.summary()"
      ],
      "execution_count": 5,
      "outputs": [
        {
          "output_type": "stream",
          "name": "stdout",
          "text": [
            "Model: \"sequential\"\n",
            "_________________________________________________________________\n",
            "Layer (type)                 Output Shape              Param #   \n",
            "=================================================================\n",
            "conv2d (Conv2D)              (None, 24, 24, 32)        832       \n",
            "_________________________________________________________________\n",
            "max_pooling2d (MaxPooling2D) (None, 12, 12, 32)        0         \n",
            "_________________________________________________________________\n",
            "conv2d_1 (Conv2D)            (None, 10, 10, 64)        18496     \n",
            "_________________________________________________________________\n",
            "max_pooling2d_1 (MaxPooling2 (None, 5, 5, 64)          0         \n",
            "_________________________________________________________________\n",
            "conv2d_2 (Conv2D)            (None, 3, 3, 64)          36928     \n",
            "_________________________________________________________________\n",
            "max_pooling2d_2 (MaxPooling2 (None, 1, 1, 64)          0         \n",
            "_________________________________________________________________\n",
            "flatten (Flatten)            (None, 64)                0         \n",
            "_________________________________________________________________\n",
            "dense (Dense)                (None, 64)                4160      \n",
            "_________________________________________________________________\n",
            "dense_1 (Dense)              (None, 10)                650       \n",
            "=================================================================\n",
            "Total params: 61,066\n",
            "Trainable params: 61,066\n",
            "Non-trainable params: 0\n",
            "_________________________________________________________________\n"
          ]
        }
      ]
    },
    {
      "cell_type": "code",
      "metadata": {
        "id": "-XX5p_7pQqT1"
      },
      "source": [
        "model_2.compile(\n",
        "    optimizer='SGD', \n",
        "    loss='sparse_categorical_crossentropy', \n",
        "    metrics=['accuracy']\n",
        ")"
      ],
      "execution_count": null,
      "outputs": []
    },
    {
      "cell_type": "code",
      "metadata": {
        "id": "42xxWd5ZQuCJ"
      },
      "source": [
        "h2 = model_2.fit(x=X_train, y=Y_train, epochs=5, batch_size=28, validation_split=0.2)"
      ],
      "execution_count": null,
      "outputs": []
    },
    {
      "cell_type": "code",
      "metadata": {
        "id": "9ZbBluUCQxo8"
      },
      "source": [
        "plt.figure(figsize=(15,5))\n",
        "plt.subplot(1,2,1)\n",
        "plt.plot(h2.history['accuracy'], 'o-', label='train accuracy')\n",
        "plt.plot(h2.history['val_accuracy'], 'o-', label = 'validation accuracy')\n",
        "plt.xlabel('Epoch')\n",
        "plt.ylabel('Accuracy')\n",
        "plt.grid(True)\n",
        "plt.legend(loc='lower right')\n",
        "\n",
        "plt.subplot(1,2,2)\n",
        "plt.plot(h2.history['loss'], 'o-', label='train loss')\n",
        "plt.plot(h2.history['val_loss'], 'o-', label='validation loss')\n",
        "plt.xlabel('Epoch')\n",
        "plt.ylabel('Loss')\n",
        "plt.grid(True)\n",
        "plt.legend(loc='upper right')\n",
        "\n",
        "plt.show()"
      ],
      "execution_count": null,
      "outputs": []
    },
    {
      "cell_type": "code",
      "metadata": {
        "id": "qmHF5RpGRDWJ"
      },
      "source": [
        "test_loss, test_acc = model_2.evaluate(X_test, Y_test)\n",
        "print('\\nTest Loss:', test_loss)\n",
        "print('\\nTest Accuracy:', test_acc)"
      ],
      "execution_count": null,
      "outputs": []
    },
    {
      "cell_type": "code",
      "metadata": {
        "id": "BKNjgEMhRH5q"
      },
      "source": [
        "ROWS = 6\n",
        "COLS = 10\n",
        "\n",
        "random_indices = random.sample(range(X_test.shape[0]), ROWS*COLS)\n",
        "sample_images = X_test[random_indices, :]\n",
        "sample_labels = Y_test[random_indices]\n",
        "predictions = model_2.predict(sample_images)\n",
        "\n",
        "i = 0\n",
        "\n",
        "plt.figure(figsize=(15,8))\n",
        "for r in range(ROWS):\n",
        "    for c in range(COLS):\n",
        "        plt.subplot(ROWS, COLS, i+1)\n",
        "        plt.imshow(sample_images[i].reshape(28,28), cmap=plt.cm.gray)\n",
        "        plt.xticks([])\n",
        "        plt.yticks([])\n",
        "        prediction = np.argmax(predictions[i]) \n",
        "        confidence = predictions[i][prediction]\n",
        "        if sample_labels[i] == prediction:\n",
        "            plt.xlabel(f\"{prediction} ({confidence: .2f})\", color='b')\n",
        "        else:\n",
        "            plt.xlabel(f\"{prediction} ({confidence: .2f})\", color='r')\n",
        "        plt.ylabel(sample_labels[i], color='g')\n",
        "        i += 1\n",
        "        \n",
        "plt.tight_layout()\n",
        "plt.show()"
      ],
      "execution_count": null,
      "outputs": []
    },
    {
      "cell_type": "markdown",
      "metadata": {
        "id": "ElnCRZPFRPS2"
      },
      "source": [
        "**RMSProp**"
      ]
    },
    {
      "cell_type": "code",
      "metadata": {
        "id": "XhNi4a65RVrp"
      },
      "source": [
        "model_3 = keras.Sequential([\n",
        "    ## input layer\n",
        "    keras.Input(shape=(28,28,1)),\n",
        "    \n",
        "    ## hidden layers\n",
        "    layers.Conv2D(filters=32, kernel_size=(5,5), activation='relu'),\n",
        "    layers.MaxPooling2D(pool_size=(2,2)),\n",
        "    layers.Conv2D(filters=64, kernel_size=(3,3), activation='relu'),\n",
        "    layers.MaxPooling2D(pool_size=(2,2)),\n",
        "    layers.Conv2D(filters=64, kernel_size=(3,3), activation='relu'),\n",
        "    layers.MaxPooling2D(pool_size=(2,2)),\n",
        "    \n",
        "    layers.Flatten(),\n",
        "    layers.Dense(64, activation='relu'),\n",
        "    \n",
        "    ## output layer\n",
        "    layers.Dense(units=10, activation='softmax')\n",
        "])\n",
        "model_3.summary()"
      ],
      "execution_count": null,
      "outputs": []
    },
    {
      "cell_type": "code",
      "metadata": {
        "id": "Dhk4OHFRRaXl"
      },
      "source": [
        "model_3.compile(\n",
        "    optimizer='RMSProp', \n",
        "    loss='sparse_categorical_crossentropy', \n",
        "    metrics=['accuracy']\n",
        ")"
      ],
      "execution_count": null,
      "outputs": []
    },
    {
      "cell_type": "code",
      "metadata": {
        "id": "WIek83E-RnO9"
      },
      "source": [
        "h3 = model_3.fit(x=X_train, y=Y_train, epochs=5, batch_size=28, validation_split=0.2)"
      ],
      "execution_count": null,
      "outputs": []
    },
    {
      "cell_type": "code",
      "metadata": {
        "id": "_FhuZAD3RrgG"
      },
      "source": [
        "plt.figure(figsize=(15,5))\n",
        "plt.subplot(1,2,1)\n",
        "plt.plot(h3.history['accuracy'], 'o-', label='train accuracy')\n",
        "plt.plot(h3.history['val_accuracy'], 'o-', label = 'validation accuracy')\n",
        "plt.xlabel('Epoch')\n",
        "plt.ylabel('Accuracy')\n",
        "plt.grid(True)\n",
        "plt.legend(loc='lower right')\n",
        "\n",
        "plt.subplot(1,2,2)\n",
        "plt.plot(h3.history['loss'], 'o-', label='train loss')\n",
        "plt.plot(h3.history['val_loss'], 'o-', label='validation loss')\n",
        "plt.xlabel('Epoch')\n",
        "plt.ylabel('Loss')\n",
        "plt.grid(True)\n",
        "plt.legend(loc='upper right')\n",
        "\n",
        "plt.show()"
      ],
      "execution_count": null,
      "outputs": []
    },
    {
      "cell_type": "code",
      "metadata": {
        "id": "52qhmo0dRvfg"
      },
      "source": [
        "test_loss, test_acc = model_3.evaluate(X_test, Y_test)\n",
        "print('\\nTest Loss:', test_loss)\n",
        "print('\\nTest Accuracy:', test_acc)"
      ],
      "execution_count": null,
      "outputs": []
    },
    {
      "cell_type": "code",
      "metadata": {
        "id": "cWFUvn2KRy7D"
      },
      "source": [
        "ROWS = 6\n",
        "COLS = 10\n",
        "\n",
        "random_indices = random.sample(range(X_test.shape[0]), ROWS*COLS)\n",
        "sample_images = X_test[random_indices, :]\n",
        "sample_labels = Y_test[random_indices]\n",
        "predictions = model_3.predict(sample_images)\n",
        "\n",
        "i = 0\n",
        "\n",
        "plt.figure(figsize=(15,8))\n",
        "for r in range(ROWS):\n",
        "    for c in range(COLS):\n",
        "        plt.subplot(ROWS, COLS, i+1)\n",
        "        plt.imshow(sample_images[i].reshape(28,28), cmap=plt.cm.gray)\n",
        "        plt.xticks([])\n",
        "        plt.yticks([])\n",
        "        prediction = np.argmax(predictions[i]) \n",
        "        confidence = predictions[i][prediction]\n",
        "        if sample_labels[i] == prediction:\n",
        "            plt.xlabel(f\"{prediction} ({confidence: .2f})\", color='b')\n",
        "        else:\n",
        "            plt.xlabel(f\"{prediction} ({confidence: .2f})\", color='r')\n",
        "        plt.ylabel(sample_labels[i], color='g')\n",
        "        i += 1\n",
        "        \n",
        "plt.tight_layout()\n",
        "plt.show()"
      ],
      "execution_count": null,
      "outputs": []
    }
  ]
}